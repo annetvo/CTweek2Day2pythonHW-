{
 "cells": [
  {
   "cell_type": "markdown",
   "metadata": {},
   "source": [
    "# Functions, Scoping, Data Collections 1 & List Comprehensions"
   ]
  },
  {
   "cell_type": "markdown",
   "metadata": {},
   "source": [
    "## Tasks Today:\n",
    "\n",
    "<i>Monday Additions (or, and ... if statements)</i>\n",
    "\n",
    "1) String Manipulation <br>\n",
    " &nbsp;&nbsp;&nbsp;&nbsp; a) strip() <br>\n",
    " &nbsp;&nbsp;&nbsp;&nbsp; b) title() <br>\n",
    "2) Working With Lists <br>\n",
    " &nbsp;&nbsp;&nbsp;&nbsp; a) min() <br>\n",
    " &nbsp;&nbsp;&nbsp;&nbsp; b) max() <br>\n",
    " &nbsp;&nbsp;&nbsp;&nbsp; c) sum() <br>\n",
    " &nbsp;&nbsp;&nbsp;&nbsp; d) sort() <br>\n",
    " &nbsp;&nbsp;&nbsp;&nbsp; e) Copying a List <br>\n",
    " &nbsp;&nbsp;&nbsp;&nbsp; f) 'in' keyword <br>\n",
    " &nbsp;&nbsp;&nbsp;&nbsp; g) 'not in' keyword <br>\n",
    " &nbsp;&nbsp;&nbsp;&nbsp; i) Checking an Empty List <br>\n",
    " &nbsp;&nbsp;&nbsp;&nbsp; j) Removing Instances with a Loop <br>\n",
    "3) List Comprehensions <br>\n",
    "4) Tuples <br>\n",
    " &nbsp;&nbsp;&nbsp;&nbsp; a) sorted() <br>\n",
    "5) Functions <br>\n",
    " &nbsp;&nbsp;&nbsp;&nbsp; a) User-Defined vs. Built-In Functions <br>\n",
    " &nbsp;&nbsp;&nbsp;&nbsp; b) Accepting Parameters <br>\n",
    " &nbsp;&nbsp;&nbsp;&nbsp; c) Default Parameters <br>\n",
    " &nbsp;&nbsp;&nbsp;&nbsp; d) Making an Argument Optional <br>\n",
    " &nbsp;&nbsp;&nbsp;&nbsp; e) Keyword Arguments <br>\n",
    " &nbsp;&nbsp;&nbsp;&nbsp; f) Returning Values <br>\n",
    " &nbsp;&nbsp;&nbsp;&nbsp; g) *args <br>\n",
    " &nbsp;&nbsp;&nbsp;&nbsp; h) Docstring <br>\n",
    " &nbsp;&nbsp;&nbsp;&nbsp; i) Using a User Function in a Loop <br>\n",
    "6) Scope"
   ]
  },
  {
   "cell_type": "markdown",
   "metadata": {},
   "source": [
    "### String Manipulation"
   ]
  },
  {
   "cell_type": "markdown",
   "metadata": {},
   "source": [
    "##### .lstrip()"
   ]
  },
  {
   "cell_type": "code",
   "execution_count": 1,
   "metadata": {},
   "outputs": [],
   "source": [
    "# string.lstrip()\n",
    "\n"
   ]
  },
  {
   "cell_type": "markdown",
   "metadata": {},
   "source": [
    "##### .rstrip()"
   ]
  },
  {
   "cell_type": "code",
   "execution_count": 2,
   "metadata": {},
   "outputs": [],
   "source": [
    "# string.rstrip()\n"
   ]
  },
  {
   "cell_type": "markdown",
   "metadata": {},
   "source": [
    "##### .strip()"
   ]
  },
  {
   "cell_type": "code",
   "execution_count": 3,
   "metadata": {},
   "outputs": [],
   "source": [
    "# string.strip()\n"
   ]
  },
  {
   "cell_type": "markdown",
   "metadata": {},
   "source": [
    "##### .title()"
   ]
  },
  {
   "cell_type": "code",
   "execution_count": 4,
   "metadata": {},
   "outputs": [],
   "source": [
    "# string.title()\n"
   ]
  },
  {
   "cell_type": "markdown",
   "metadata": {},
   "source": [
    "### String Exercise <br>\n",
    "<p>Strip all white space and capitalize every name in the list given</p>"
   ]
  },
  {
   "cell_type": "code",
   "execution_count": 5,
   "metadata": {},
   "outputs": [
    {
     "name": "stdout",
     "output_type": "stream",
     "text": [
      "<class 'list'>\n",
      "['    coNNor', 'max', ' EVan ', 'JORDAN']\n",
      "['Connor', 'Max', 'Evan', 'Jordan']\n"
     ]
    }
   ],
   "source": [
    "names = ['    coNNor', 'max', ' EVan ', 'JORDAN']\n",
    "# HINT: You will need to use a for loop for iteration\n",
    "print(type(names))\n",
    "print(names)\n",
    "\n",
    "for i in range(len(names)):\n",
    "    names[i] = names[i].strip().title()\n",
    "      \n",
    "print(names)\n",
    "\n"
   ]
  },
  {
   "cell_type": "markdown",
   "metadata": {},
   "source": [
    "### Working With Lists"
   ]
  },
  {
   "cell_type": "markdown",
   "metadata": {},
   "source": [
    "##### min()"
   ]
  },
  {
   "cell_type": "code",
   "execution_count": 6,
   "metadata": {},
   "outputs": [],
   "source": [
    "# min(list)\n"
   ]
  },
  {
   "cell_type": "markdown",
   "metadata": {},
   "source": [
    "##### max()"
   ]
  },
  {
   "cell_type": "code",
   "execution_count": 7,
   "metadata": {},
   "outputs": [],
   "source": [
    "# max(list)\n",
    "\n"
   ]
  },
  {
   "cell_type": "markdown",
   "metadata": {},
   "source": [
    "##### sum()"
   ]
  },
  {
   "cell_type": "code",
   "execution_count": 8,
   "metadata": {},
   "outputs": [],
   "source": [
    "# sum(list)\n",
    "\n"
   ]
  },
  {
   "cell_type": "markdown",
   "metadata": {},
   "source": [
    "##### sorted()"
   ]
  },
  {
   "cell_type": "code",
   "execution_count": 9,
   "metadata": {},
   "outputs": [],
   "source": [
    "# sorted(list)\n",
    "\n"
   ]
  },
  {
   "cell_type": "markdown",
   "metadata": {},
   "source": [
    "##### .sort() <br>\n",
    "<p>Difference between sort and sorted, is that sorted doesn't change original list it returns a copy, while .sort changes the original list</p>"
   ]
  },
  {
   "cell_type": "code",
   "execution_count": 10,
   "metadata": {},
   "outputs": [],
   "source": [
    "# list.sort()\n",
    "\n",
    "\n",
    "# use sorted when you don't want to alter original list, use .sort() when you want to alter original list"
   ]
  },
  {
   "cell_type": "markdown",
   "metadata": {},
   "source": [
    "##### Copying a List"
   ]
  },
  {
   "cell_type": "code",
   "execution_count": 11,
   "metadata": {},
   "outputs": [],
   "source": [
    "# [:] copies a list, doesn't alter original\n"
   ]
  },
  {
   "cell_type": "markdown",
   "metadata": {},
   "source": [
    "##### 'in' keyword"
   ]
  },
  {
   "cell_type": "code",
   "execution_count": null,
   "metadata": {},
   "outputs": [],
   "source": []
  },
  {
   "cell_type": "markdown",
   "metadata": {},
   "source": [
    "##### 'not in' keyword"
   ]
  },
  {
   "cell_type": "code",
   "execution_count": null,
   "metadata": {},
   "outputs": [],
   "source": []
  },
  {
   "cell_type": "markdown",
   "metadata": {},
   "source": [
    "##### Checking an Empty List"
   ]
  },
  {
   "cell_type": "code",
   "execution_count": 12,
   "metadata": {},
   "outputs": [],
   "source": [
    "# if l_1: or if l_1 = []\n",
    "\n"
   ]
  },
  {
   "cell_type": "markdown",
   "metadata": {},
   "source": [
    "##### Removing Instances with a Loop"
   ]
  },
  {
   "cell_type": "code",
   "execution_count": 13,
   "metadata": {},
   "outputs": [],
   "source": [
    "# while, remove\n",
    "\n"
   ]
  },
  {
   "cell_type": "markdown",
   "metadata": {},
   "source": [
    "### List Exercise <br>\n",
    "<p>Remove all duplicates<br><b>Extra: Create a program that will remove any duplicates from a given list</b></p>"
   ]
  },
  {
   "cell_type": "code",
   "execution_count": 14,
   "metadata": {},
   "outputs": [
    {
     "name": "stdout",
     "output_type": "stream",
     "text": [
      "['connor', 'bob', 'evan', 'max', 2, 3, 4, 'kevin']\n"
     ]
    }
   ],
   "source": [
    "names = ['connor', 'connor', 'bob', 'connor', 'evan', 'max', 'evan', 2, 2, 2, 3, 3, 4, 'bob', 'kevin']\n",
    "# Hint 1: You will need an append\n",
    "# Hint 2: Using an empty list will make life easier\n",
    "\n",
    "names_copy = []\n",
    "for i in names:\n",
    "    if i not in names_copy: #if the name is in the names_copy\n",
    "        names_copy.append(i) #add in names_copy\n",
    "print(names_copy)\n"
   ]
  },
  {
   "cell_type": "markdown",
   "metadata": {},
   "source": [
    "### List Comprehensions <br>\n",
    "<p>Creating a quickly generated list to work with<br>*result*  = [*transform*    *iteration*         *filter*     ]</p>"
   ]
  },
  {
   "cell_type": "markdown",
   "metadata": {},
   "source": [
    "##### In a list comprehension we have a few pieces:\n",
    "1. The first is the counter/ variable - IN this the variable is x\n",
    "2. then we have a transform for the variable\n",
    "3. The finale part of a list comp is called the condition\n",
    "\n",
    "```python\n",
    "    [variable, transform, condition]\n",
    "```"
   ]
  },
  {
   "cell_type": "code",
   "execution_count": 15,
   "metadata": {},
   "outputs": [
    {
     "name": "stdout",
     "output_type": "stream",
     "text": [
      "[1, 2, 3, 4, 5, 6, 7, 8, 9, 10]\n",
      "[1, 2, 3, 4, 5, 6, 7, 8, 9, 10, 1, 2, 3, 4, 5, 6, 7, 8, 9, 10]\n"
     ]
    }
   ],
   "source": [
    "#  newlist= [x for x in oldlist(or other iterable)]\n",
    "# number comprehension\n",
    "nums = [x for x in range(1,11)]\n",
    "print(nums)\n",
    "\n",
    "# With a regular for loop\n",
    "num = []\n",
    "for x in range(1,11):\n",
    "    nums.append(x)\n",
    "print(nums)\n",
    "\n",
    "# IN a list comprehension we have a few pieces:\n",
    "# The first is the counter/ variable - IN this the variable is x\n",
    "# Then we have a transform for the variable \n",
    "# The finale part of a list comp is called the condition\n",
    "#[variable, transform, condition]\n",
    "\n",
    "\n",
    "\n"
   ]
  },
  {
   "cell_type": "markdown",
   "metadata": {},
   "source": [
    "There are a few benefits to using List comprehensions. The most obvious would be that we now have shorter code to work with instead of using 3+ lines of code in the for loop variant.\n",
    "\n",
    "Another is an added benefit to memory usage. Since the list's memory is allocated first before adding elements to it, we don't have to resize the list once we add elements to it.\n",
    "\n",
    "Lastly, list comprehensions are considered the \"pythonic\" way to write code by the PEP8 standards (Python Style Guide)"
   ]
  },
  {
   "cell_type": "markdown",
   "metadata": {},
   "source": [
    "as youre just learning, totally fine to just use for loops instead of lsit comprehension\n",
    "\n",
    "but you can also go back to re-write code once you know it works"
   ]
  },
  {
   "cell_type": "code",
   "execution_count": 16,
   "metadata": {},
   "outputs": [
    {
     "name": "stdout",
     "output_type": "stream",
     "text": [
      "[1, 4, 9, 16, 25, 36, 49, 64, 81, 100]\n"
     ]
    },
    {
     "data": {
      "text/plain": [
       "[4, 16, 36, 64, 100]"
      ]
     },
     "execution_count": 16,
     "metadata": {},
     "output_type": "execute_result"
    }
   ],
   "source": [
    "# square number comprehension\n",
    "# another example - take that numbers list and create a new list wiht those numbers squared\n",
    "\n",
    "nums = [1,2,3,4,5,6,7,8,9,10]\n",
    "\n",
    "squares = [x**2 for x in nums]\n",
    "print(squares)\n",
    "\n",
    "# go step further -> only bring squares in to new list if they are even\n",
    "\n",
    "evensquares = [x**2 for x in nums if x**2 % 2 == 0]\n",
    "evensquares\n"
   ]
  },
  {
   "cell_type": "code",
   "execution_count": 17,
   "metadata": {},
   "outputs": [
    {
     "name": "stdout",
     "output_type": "stream",
     "text": [
      "['LaVender GOOms ', '  Bruton GASTEr', 'Gus T.T. ShoWBIZ', '     Metheuselah Honeysuckle']\n"
     ]
    },
    {
     "data": {
      "text/plain": [
       "['Lavender Gooms',\n",
       " 'Bruton Gaster',\n",
       " 'Gus T.T. Showbiz',\n",
       " 'Metheuselah Honeysuckle']"
      ]
     },
     "execution_count": 17,
     "metadata": {},
     "output_type": "execute_result"
    }
   ],
   "source": [
    "# string comprehension\n",
    "# non-comprehension way to filter a list\n",
    "characters = ['LaVender GOOms ', 'Roger','  Bruton GASTEr','Gus T.T. ShoWBIZ','Roger','Roger','     Metheuselah Honeysuckle']\n",
    "newlist= []\n",
    "for i in characters:\n",
    "    if i != 'Roger':\n",
    "        newlist.append(i)\n",
    "print(newlist)\n",
    "\n",
    "# with a list comprehension\n",
    "gusnames = [name.strip().title() for name in characters if name !='Roger']\n",
    "gusnames # gusnames is also just the newlist, \"name\" can be literally anything but as long as it's readible, its ok\n",
    "\n",
    "\n"
   ]
  },
  {
   "cell_type": "code",
   "execution_count": null,
   "metadata": {},
   "outputs": [],
   "source": []
  },
  {
   "cell_type": "code",
   "execution_count": null,
   "metadata": {},
   "outputs": [],
   "source": []
  },
  {
   "cell_type": "markdown",
   "metadata": {},
   "source": [
    "### Tuples <br>\n",
    "<p><b>Defined as an immutable list - the second data structure/collection we'll look at </b></p><br>Seperated by commas using parenthesis"
   ]
  },
  {
   "cell_type": "code",
   "execution_count": 18,
   "metadata": {},
   "outputs": [
    {
     "name": "stdout",
     "output_type": "stream",
     "text": [
      "('This', 'Is', 'Tuple', 'Containing', 'Strings')\n",
      "['This', 'Is', 'Tuple', 'Containing', 'Strings']\n"
     ]
    }
   ],
   "source": [
    "# same as degining a list, use parentheses instead of square brackets []\n",
    "# () is the syntax clue for tuples\n",
    "\n",
    "mytuple = (\"This\",\"Is\",\"Tuple\",\"Containing\",\"Strings\")\n",
    "print(mytuple)\n",
    "\n",
    "# only used iyo uhave data that you don't want modified \n",
    "\n",
    "# to change a value from a tuple, just copy as a list and work with new list \n",
    "listfromtuple = list(mytuple)\n",
    "listfromtupleusingcomprehension = [x for x in mytuple]\n",
    "print(listfromtupleusingcomprehension)\n"
   ]
  },
  {
   "cell_type": "markdown",
   "metadata": {},
   "source": [
    "##### sorted()"
   ]
  },
  {
   "cell_type": "code",
   "execution_count": 19,
   "metadata": {},
   "outputs": [
    {
     "data": {
      "text/plain": [
       "['Tuple', 'This', 'Strings', 'Is', 'Containing']"
      ]
     },
     "execution_count": 19,
     "metadata": {},
     "output_type": "execute_result"
    }
   ],
   "source": [
    "# sorted creates list-type copy of tuple in sorted order\n",
    "\n",
    "sorted(mytuple, reverse=True)\n"
   ]
  },
  {
   "cell_type": "markdown",
   "metadata": {},
   "source": [
    "##### Adding values to a Tuple"
   ]
  },
  {
   "cell_type": "code",
   "execution_count": 20,
   "metadata": {},
   "outputs": [
    {
     "name": "stdout",
     "output_type": "stream",
     "text": [
      "(1, 2, 3, 4)\n"
     ]
    }
   ],
   "source": [
    "# 2 options -> convvert to and from a list and modify the list\n",
    "# tuple concatenation\n",
    "\n",
    "atuple = (1,2,3)\n",
    "# add the number 4 \n",
    "atuple = list(atuple)\n",
    "atuple.append(4)\n",
    "atuple= tuple(atuple)\n",
    "atuple\n",
    "\n",
    "# deleting some data -> error thrown on purpose to show that atuple is deleted\n",
    "# note this is mostly unnecessary \n",
    "\n",
    "atuple = (1,2,3)\n",
    "atuple = atuple + (4,)\n",
    "print(atuple)"
   ]
  },
  {
   "cell_type": "markdown",
   "metadata": {},
   "source": [
    "## Functions"
   ]
  },
  {
   "cell_type": "markdown",
   "metadata": {},
   "source": [
    "##### User-Defined vs. Built-In Functions"
   ]
  },
  {
   "cell_type": "code",
   "execution_count": 21,
   "metadata": {},
   "outputs": [
    {
     "data": {
      "text/plain": [
       "'Hello, Foxes! :)'"
      ]
     },
     "execution_count": 21,
     "metadata": {},
     "output_type": "execute_result"
    }
   ],
   "source": [
    "# print() max() min() .sort() .title() anything like that we're using a built-in function\n",
    "# print('Hello!') # this is a func call aka when we actively tell the proces to run\n",
    "\n",
    "# the difference with a user-defined function\n",
    "# is that before we can call it\n",
    "# we mus define it\n",
    "# ntoe that this doesn't mean we can skip the function call\n",
    "# a function definition on its own doesn't do anything -> its just a blueprint or a plan for the process \n",
    "\n",
    "# def function_name():\n",
    "    # process\n",
    "    # returbn something (or nothing)\n",
    "    \n",
    "\n",
    "\n",
    "def hello_world():\n",
    "    hellostr = \"Hello, Foxes! :)\"\n",
    "    return hellostr # when func is called, what will this func spit back out \n",
    "\n",
    "# after definted, can call\n",
    "#function_name(<inputs/parameters/arguments as need>)\n",
    "\n",
    "# save_return = hello_world()\n",
    "# print(save_return)\n",
    "\n",
    "hello_world()\n",
    "\n"
   ]
  },
  {
   "cell_type": "code",
   "execution_count": 22,
   "metadata": {},
   "outputs": [
    {
     "name": "stdout",
     "output_type": "stream",
     "text": [
      "Hello, Foxes! :)\n",
      "Hello, Foxes! :)\n",
      "Hello, Foxes! :)\n",
      "Hello, Foxes! :)\n",
      "Hello, Foxes! :)\n",
      "Hello, Foxes! :)\n",
      "Hello, Foxes! :)\n",
      "Hello, Foxes! :)\n",
      "Hello, Foxes! :)\n",
      "Hello, Foxes! :)\n"
     ]
    }
   ],
   "source": [
    "for i in range(10):# calls function 10 times\n",
    "    print(hello_world())"
   ]
  },
  {
   "cell_type": "markdown",
   "metadata": {},
   "source": [
    "##### Accepting Parameters"
   ]
  },
  {
   "cell_type": "code",
   "execution_count": 23,
   "metadata": {},
   "outputs": [
    {
     "name": "stdout",
     "output_type": "stream",
     "text": [
      "Hello, Elaine and Claudia! :)\n"
     ]
    }
   ],
   "source": [
    "# tell the func it needs to accept input in the def line\n",
    "# this func accepts one piece of data aka one parameter \n",
    "def hello_name(name):\n",
    "    return f'Hello, {name.title()}! :)'\n",
    "\n",
    "hello_name('Brandon')\n",
    "\n",
    "# 2 parameters\n",
    "def hello_people(name1, name2):\n",
    "    return f'Hello, {name1.title()} and {name2.title()}! :)'\n",
    "\n",
    "#call the func\n",
    "hello_people('ronald','joO yEoN')\n",
    "\n",
    "a_string_is_returned = hello_people('Elaine','Claudia')\n",
    "print(a_string_is_returned)"
   ]
  },
  {
   "cell_type": "code",
   "execution_count": 24,
   "metadata": {},
   "outputs": [
    {
     "name": "stdout",
     "output_type": "stream",
     "text": [
      "Help on function hello_people in module __main__:\n",
      "\n",
      "hello_people(name1, name2)\n",
      "    Function: hello_people create a greeting for 2 people\n",
      "    accepts 2 strings which should be names of people\n",
      "    returns a greeting in the form of a string crafted from the input strings\n",
      "\n"
     ]
    }
   ],
   "source": [
    "# functionality: it has no functionality, this is an example\n",
    "# input: accepts 2 parameters -> input 1 should be a _____ and input 2 should be a ____\n",
    "# output: returns the output variable, which will be _____\n",
    "\n",
    "def function_name(input1,input2):\n",
    "    return output\n",
    "\n",
    "#real example\n",
    "# functionality: create a greeting for 2 people\n",
    "# input: accepts 2 parameters -> name1 should be a strig and name2 should be a string\n",
    "# output: reutns a string greeting buil from the 2 input names\n",
    "\n",
    "def hello_people(name1,name2):\n",
    "    '''\n",
    "    Function: hello_people create a greeting for 2 people\n",
    "    accepts 2 strings which should be names of people\n",
    "    returns a greeting in the form of a string crafted from the input strings\n",
    "    '''\n",
    "    # body of the func would fo here\n",
    "    return f'Hello, {name1} and {name2}! :)'\n",
    "\n",
    "help(hello_people)\n",
    "\n",
    "# if you make it clear through properly named variables - you often won't even need comments\n",
    "# this is known as writing self-commenting code\n",
    "# there is a good balanc between descriptive variable names and short variable names \n",
    "# this_is_a_string_name is better than _n but worse than name"
   ]
  },
  {
   "cell_type": "markdown",
   "metadata": {},
   "source": [
    "##### Default Parameters"
   ]
  },
  {
   "cell_type": "code",
   "execution_count": null,
   "metadata": {},
   "outputs": [],
   "source": []
  },
  {
   "cell_type": "markdown",
   "metadata": {},
   "source": [
    "##### Making an Argument Optional"
   ]
  },
  {
   "cell_type": "code",
   "execution_count": null,
   "metadata": {},
   "outputs": [],
   "source": []
  },
  {
   "cell_type": "markdown",
   "metadata": {},
   "source": [
    "##### Keyword Arguments"
   ]
  },
  {
   "cell_type": "code",
   "execution_count": 25,
   "metadata": {},
   "outputs": [],
   "source": [
    "# last_name='Max', first_name='Smith' in the function call\n",
    "\n",
    "# see above"
   ]
  },
  {
   "cell_type": "markdown",
   "metadata": {},
   "source": [
    "# Creating a start, stop, step function"
   ]
  },
  {
   "cell_type": "code",
   "execution_count": 26,
   "metadata": {},
   "outputs": [
    {
     "name": "stdout",
     "output_type": "stream",
     "text": [
      "[0, 3, 6, 9, 12, 15]\n",
      "[0, 485, 970, 1455]\n",
      "[0, 2]\n",
      "[123, 191, 259, 327, 395, 463, 531, 599, 667, 735, 803, 871, 939, 1007, 1075, 1143, 1211, 1279, 1347, 1415, 1483, 1551, 1619, 1687, 1755, 1823, 1891, 1959, 2027, 2095, 2163, 2231, 2299, 2367, 2435, 2503, 2571, 2639, 2707, 2775, 2843, 2911, 2979, 3047, 3115, 3183, 3251, 3319, 3387, 3455]\n"
     ]
    }
   ],
   "source": [
    "# aka creating a mimic of the range function\n",
    "# for now, my range function mimic must be given all 3 start, stop, and step values\n",
    "\n",
    "# this func will accept three integers as input - start, stop, step\n",
    "# the function will then return a list of all integers [start, stop) separated by the step\n",
    "\n",
    "def rangemimic(start, stop,step): #given 3 values\n",
    "    nums = [] #define empty list \n",
    "    # need to create a list from these provided numbers \n",
    "    # I'll set up a process to add to my nums list repeatedly until the number i'm adding reaches my stop\n",
    "    while start<stop:\n",
    "        nums.append(start) #add start value to nums list, and then add step until start value is no longer less than the stop\n",
    "        start = start + step\n",
    "    return nums\n",
    "    \n",
    "print(rangemimic(0,17,3))\n",
    "print(rangemimic(0,1599,485))\n",
    "print(rangemimic(0,4,2))\n",
    "print(rangemimic(123,3466,68))"
   ]
  },
  {
   "cell_type": "markdown",
   "metadata": {},
   "source": [
    "##### Returning Values"
   ]
  },
  {
   "cell_type": "code",
   "execution_count": null,
   "metadata": {},
   "outputs": [],
   "source": []
  },
  {
   "cell_type": "markdown",
   "metadata": {},
   "source": [
    "##### *args"
   ]
  },
  {
   "cell_type": "code",
   "execution_count": null,
   "metadata": {},
   "outputs": [],
   "source": []
  },
  {
   "cell_type": "markdown",
   "metadata": {},
   "source": [
    "##### Docstring"
   ]
  },
  {
   "cell_type": "code",
   "execution_count": 27,
   "metadata": {},
   "outputs": [
    {
     "data": {
      "text/plain": [
       "'this is a docstring'"
      ]
     },
     "execution_count": 27,
     "metadata": {},
     "output_type": "execute_result"
    }
   ],
   "source": [
    "'''this is a docstring'''"
   ]
  },
  {
   "cell_type": "markdown",
   "metadata": {},
   "source": [
    "##### Using a User Function in a Loop"
   ]
  },
  {
   "cell_type": "code",
   "execution_count": null,
   "metadata": {},
   "outputs": [],
   "source": []
  },
  {
   "cell_type": "markdown",
   "metadata": {},
   "source": [
    "## Function Exercise <br>\n",
    "<p>Write a function that loops through a list of first_names and a list of last_names, combines the two and return a list of full_names</p>"
   ]
  },
  {
   "cell_type": "code",
   "execution_count": 28,
   "metadata": {},
   "outputs": [],
   "source": [
    "first_name = ['John', 'Evan', 'Jordan', 'Max']\n",
    "last_name = ['Smith', 'Smith', 'Williams', 'Bell']\n",
    "\n",
    "# Output: ['John Smith', 'Evan Smith', 'Jordan Williams', 'Max Bell']\n"
   ]
  },
  {
   "cell_type": "markdown",
   "metadata": {},
   "source": [
    "## Scope <br>\n",
    "<p>Scope refers to the ability to access variables, different types of scope include:<br>a) Global<br>b) Function (local)<br>c) Class (local)</p>"
   ]
  },
  {
   "cell_type": "code",
   "execution_count": null,
   "metadata": {},
   "outputs": [],
   "source": []
  },
  {
   "cell_type": "markdown",
   "metadata": {},
   "source": [
    "# Exercises"
   ]
  },
  {
   "cell_type": "markdown",
   "metadata": {},
   "source": [
    "## Exercise 1 <br>\n",
    "<p>Given a list as a parameter,write a function that returns a list of numbers that are less than ten</b></i></p><br>\n",
    "<p> For example: Say your input parameter to the function is [1,11,14,5,8,9]...Your output should [1,5,8,9]</p>"
   ]
  },
  {
   "cell_type": "code",
   "execution_count": 29,
   "metadata": {},
   "outputs": [
    {
     "name": "stdout",
     "output_type": "stream",
     "text": [
      "[1, 5, 8, 9]\n"
     ]
    }
   ],
   "source": [
    "# Use the following list - [1,11,14,5,8,9]\n",
    "\n",
    "num = [1,5,8,9]\n",
    "newlist = []\n",
    "\n",
    "for i in num:\n",
    "    if i < 10:\n",
    "        newlist.append(i)\n",
    "        \n",
    "print(newlist)\n"
   ]
  },
  {
   "cell_type": "markdown",
   "metadata": {},
   "source": [
    "## Exercise 2 <br>\n",
    "<p>Write a function that takes in two lists and returns the two lists merged together and sorted<br>\n",
    "<b><i>Hint: You can use the .sort() method</i></b></p>"
   ]
  },
  {
   "cell_type": "code",
   "execution_count": 35,
   "metadata": {},
   "outputs": [
    {
     "name": "stdout",
     "output_type": "stream",
     "text": [
      "[1, 2, 3, 3, 4, 4, 5, 5, 6, 6, 7, 8, 10]\n"
     ]
    }
   ],
   "source": [
    "list1 = [1,2,3,4,5,6]\n",
    "list2 = [3,4,5,6,7,8,10]\n",
    "\n",
    "for x in list2:\n",
    "    list1.append(x)\n",
    "    list1.sort()\n",
    "\n",
    "print(list1)\n",
    "\n",
    "\n"
   ]
  },
  {
   "cell_type": "code",
   "execution_count": null,
   "metadata": {},
   "outputs": [],
   "source": []
  }
 ],
 "metadata": {
  "kernelspec": {
   "display_name": "Python 3",
   "language": "python",
   "name": "python3"
  },
  "language_info": {
   "codemirror_mode": {
    "name": "ipython",
    "version": 3
   },
   "file_extension": ".py",
   "mimetype": "text/x-python",
   "name": "python",
   "nbconvert_exporter": "python",
   "pygments_lexer": "ipython3",
   "version": "3.8.8"
  }
 },
 "nbformat": 4,
 "nbformat_minor": 2
}
